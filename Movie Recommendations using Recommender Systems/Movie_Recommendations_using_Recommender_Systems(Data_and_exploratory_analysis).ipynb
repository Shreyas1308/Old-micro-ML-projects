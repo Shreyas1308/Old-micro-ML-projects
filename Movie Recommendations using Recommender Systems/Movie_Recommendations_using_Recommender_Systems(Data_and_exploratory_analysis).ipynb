{
  "nbformat": 4,
  "nbformat_minor": 0,
  "metadata": {
    "colab": {
      "name": "Movie Recommendations using Recommender Systems(Data and exploratory analysis).ipynb",
      "provenance": []
    },
    "kernelspec": {
      "name": "python3",
      "display_name": "Python 3"
    },
    "language_info": {
      "name": "python"
    }
  },
  "cells": [
    {
      "cell_type": "markdown",
      "metadata": {
        "id": "GWF3X0smFi_d"
      },
      "source": [
        "# **Movie Recommendation System with Python**\n",
        "In this project, we'll develop a basic recommender system with Python and pandas.\n",
        "\n",
        "Movies will be suggested by similarity to other movies; this is not a robust recommendation system, but something to start out on."
      ]
    },
    {
      "cell_type": "code",
      "metadata": {
        "id": "PF069jt1Do2l"
      },
      "source": [
        "import numpy as np\n",
        "import pandas as pd"
      ],
      "execution_count": null,
      "outputs": []
    },
    {
      "cell_type": "markdown",
      "metadata": {
        "id": "BxKzwe25GpCa"
      },
      "source": [
        "# **Data**\n",
        "We have two datasets:\n",
        "\n",
        "*  A dataset of movie ratings.\n",
        "*  A dataset of all movies titles and their ids."
      ]
    },
    {
      "cell_type": "code",
      "metadata": {
        "id": "r2o9pKQgG-dg"
      },
      "source": [
        "#Reading the ratings dataset.\n",
        "column_names = ['user_id', 'item_id', 'rating', 'timestamp']\n",
        "df = pd.read_csv('data/u.data', sep='\\t', names=column_names)"
      ],
      "execution_count": null,
      "outputs": []
    },
    {
      "cell_type": "code",
      "metadata": {
        "id": "VUM441iIHLB4"
      },
      "source": [
        "df.head()"
      ],
      "execution_count": null,
      "outputs": []
    },
    {
      "cell_type": "markdown",
      "metadata": {
        "id": "_fHjoBmoHQ26"
      },
      "source": [
        "\n",
        "Reading the movie titles"
      ]
    },
    {
      "cell_type": "code",
      "metadata": {
        "id": "5I6AVprfHVJP"
      },
      "source": [
        "movie_titles = pd.read_csv(\"data/Movie_Id_Titles\")\n",
        "movie_titles.head()"
      ],
      "execution_count": null,
      "outputs": []
    },
    {
      "cell_type": "markdown",
      "metadata": {
        "id": "IfoBeAsmHT_f"
      },
      "source": [
        "We can merge them together:"
      ]
    },
    {
      "cell_type": "code",
      "metadata": {
        "id": "s12FOIKzHiQI"
      },
      "source": [
        "df = pd.merge(df,movie_titles,on='item_id')\n",
        "df.head()"
      ],
      "execution_count": null,
      "outputs": []
    },
    {
      "cell_type": "markdown",
      "metadata": {
        "id": "PJoWVykDH584"
      },
      "source": [
        "# **Exploratory Analysis**\n",
        "Let's explore the data a bit and get a look at some of the best rated movies."
      ]
    },
    {
      "cell_type": "code",
      "metadata": {
        "id": "Icbc44YvHpcn"
      },
      "source": [
        "import matplotlib.pyplot as plt\n",
        "import seaborn as sns\n",
        "sns.set_style('white')\n",
        "%matplotlib inline"
      ],
      "execution_count": null,
      "outputs": []
    },
    {
      "cell_type": "markdown",
      "metadata": {
        "id": "ORxbcpi2Ifpx"
      },
      "source": [
        "\n",
        "Let's create a ratings dataframe with average rating and number of ratings:"
      ]
    },
    {
      "cell_type": "code",
      "metadata": {
        "id": "Pdy5fHdbIhS3"
      },
      "source": [
        "df.groupby('title')['rating'].mean().sort_values(ascending=False).head()"
      ],
      "execution_count": null,
      "outputs": []
    },
    {
      "cell_type": "code",
      "metadata": {
        "id": "5inno_RiIspz"
      },
      "source": [
        "df.groupby('title')['rating'].count().sort_values(ascending=False).head()"
      ],
      "execution_count": null,
      "outputs": []
    },
    {
      "cell_type": "code",
      "metadata": {
        "id": "IpwLTVFBIw8S"
      },
      "source": [
        "ratings = pd.DataFrame(df.groupby('title')['rating'].mean())\n",
        "ratings.head()"
      ],
      "execution_count": null,
      "outputs": []
    },
    {
      "cell_type": "markdown",
      "metadata": {
        "id": "E9TCgnPkIpow"
      },
      "source": [
        "\n",
        "Setting the number of ratings column:"
      ]
    },
    {
      "cell_type": "code",
      "metadata": {
        "id": "6vQt3wQMI1f7"
      },
      "source": [
        "ratings['num of ratings'] = pd.DataFrame(df.groupby('title')['rating'].count())\n",
        "ratings.head()"
      ],
      "execution_count": null,
      "outputs": []
    },
    {
      "cell_type": "markdown",
      "metadata": {
        "id": "CqJ8f0OyJAY4"
      },
      "source": [
        "Visualizing the number of ratings:"
      ]
    },
    {
      "cell_type": "code",
      "metadata": {
        "id": "KFtia7URJBM4"
      },
      "source": [
        "plt.figure(figsize=(10,4))\n",
        "ratings['num of ratings'].hist(bins=40)"
      ],
      "execution_count": null,
      "outputs": []
    },
    {
      "cell_type": "code",
      "metadata": {
        "id": "j73MVou4JJd6"
      },
      "source": [
        "plt.figure(figsize=(10,4))\n",
        "ratings['rating'].hist(bins=40)"
      ],
      "execution_count": null,
      "outputs": []
    },
    {
      "cell_type": "markdown",
      "metadata": {
        "id": "3oFvKKJZJNo4"
      },
      "source": [
        "\n",
        "It makes intuitive sense for most ratings to be around the 3.0 mark."
      ]
    }
  ]
}