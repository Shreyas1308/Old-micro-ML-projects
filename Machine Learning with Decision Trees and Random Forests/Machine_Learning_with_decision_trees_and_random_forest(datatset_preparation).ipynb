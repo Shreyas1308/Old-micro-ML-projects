{
  "nbformat": 4,
  "nbformat_minor": 0,
  "metadata": {
    "colab": {
      "name": "Machine Learning with decision trees and random forest(datatset preparation).ipynb",
      "provenance": []
    },
    "kernelspec": {
      "name": "python3",
      "display_name": "Python 3"
    },
    "language_info": {
      "name": "python"
    }
  },
  "cells": [
    {
      "cell_type": "markdown",
      "metadata": {
        "id": "yPI88XJKw1Ft"
      },
      "source": [
        "# **Machine Learning with Decision Trees and Random Forests**\n",
        "In this project we will be exploring publicly available data from LendingClub.com. Lending Club is a service that connects borrowers with people who have money (investors). We will try to create a model that will help predict if a person has a high probability of paying the loan back."
      ]
    },
    {
      "cell_type": "code",
      "metadata": {
        "id": "oG2mC7JXvOgJ"
      },
      "source": [
        "import pandas as pd\n",
        "\n",
        "import seaborn as sns\n",
        "import matplotlib.pyplot as plt\n",
        "%matplotlib inline"
      ],
      "execution_count": null,
      "outputs": []
    },
    {
      "cell_type": "markdown",
      "metadata": {
        "id": "N9yj22wTxoYS"
      },
      "source": [
        "# **Data**\n",
        "We will use lending data from 2007-2010 and try to classify and predict whether or not the borrower paid back their loan in full.\n",
        "\n",
        "The data set contains the following features:\n",
        "\n",
        "\n",
        "\n",
        "*   **credit.policy**: 1 if the customer meets the credit underwriting criteria of LendingClub.com, and 0 otherwise.\n",
        "*   **purpose**: The purpose of the loan (takes values \"credit_card\", \"debt_consolidation\", \"educational\", \"major_purchase\", \"small_business\", and \"all_other\").\n",
        "*   **int.rate**: The interest rate of the loan, as a proportion (a rate of 11% would be stored as 0.11). Borrowers judged by LendingClub.com to be more risky are assigned higher interest rates.\n",
        "*   **installment**: The monthly installments owed by the borrower if the loan is funded.\n",
        "*   **log.annual.inc**: The natural log of the self-reported annual income of the borrower.\n",
        "*   **dti**: The debt-to-income ratio of the borrower (amount of debt divided by annual income).\n",
        "*   **fico**: The FICO credit score of the borrower.\n",
        "*   **days.with.cr.line**: The number of days the borrower has had a credit line.\n",
        "*   **revol.bal**: The borrower's revolving balance (amount unpaid at the end of the credit card billing cycle).\n",
        "*   **revol.util**: The borrower's revolving line utilization rate (the amount of the credit line used relative to total credit available).\n",
        "*   **inq.last.6mths**: The borrower's number of inquiries by creditors in the last 6 months.\n",
        "*   **delinq.2yrs**: The number of times the borrower had been 30+ days past due on a payment in the past 2 years.\n",
        "*   **pub.rec**: The borrower's number of derogatory public records (bankruptcy filings, tax liens, or judgments).\n",
        "\n",
        "\n",
        "\n",
        "\n",
        "\n",
        "\n",
        "\n"
      ]
    },
    {
      "cell_type": "code",
      "metadata": {
        "id": "OG__-S6zzYIq"
      },
      "source": [
        "#Reading the data\n",
        "loans = pd.read_csv('data/loan_data.csv')"
      ],
      "execution_count": null,
      "outputs": []
    },
    {
      "cell_type": "code",
      "metadata": {
        "id": "wcBRD9KnKSeX"
      },
      "source": [
        "loans.info()"
      ],
      "execution_count": null,
      "outputs": []
    },
    {
      "cell_type": "code",
      "metadata": {
        "id": "28trKh_zKb4b"
      },
      "source": [
        "loans.describe()"
      ],
      "execution_count": null,
      "outputs": []
    },
    {
      "cell_type": "code",
      "metadata": {
        "id": "iuC38edLKcv7"
      },
      "source": [
        "loans.head()"
      ],
      "execution_count": null,
      "outputs": []
    },
    {
      "cell_type": "markdown",
      "metadata": {
        "id": "tZkdqgtKKl2b"
      },
      "source": [
        "# **Exploratory Data Analysis**\n",
        "Using quick visualisations, we can explore the relationship between different variables in the dataset.\n",
        "\n",
        "Let's start with a dual histogram of the FICO score of the borrowers, depending on the credit policy (i.e. if a borrower met the underlying criteria)."
      ]
    },
    {
      "cell_type": "code",
      "metadata": {
        "id": "hmUfhc8mK-mL"
      },
      "source": [
        "loans[loans['credit.policy']==1]['fico'].hist(bins=30,alpha=0.6,label='Credit.Policy=1')\n",
        "loans[loans['credit.policy']==0]['fico'].hist(bins=30,alpha=0.6,label='Credit.Policy=0')\n",
        "plt.legend()\n",
        "plt.xlabel('FICO')"
      ],
      "execution_count": null,
      "outputs": []
    },
    {
      "cell_type": "code",
      "metadata": {
        "id": "MuQ3I8pRLKZM"
      },
      "source": [
        "loans[loans['not.fully.paid']==1]['fico'].hist(bins=30,alpha=0.6,label='not.fully.paid=1',color='red')\n",
        "loans[loans['not.fully.paid']==0]['fico'].hist(bins=30,alpha=0.6,label='not.fully.paid=0')\n",
        "plt.legend()\n",
        "plt.xlabel('FICO')"
      ],
      "execution_count": null,
      "outputs": []
    },
    {
      "cell_type": "markdown",
      "metadata": {
        "id": "XOs20j8tLNuL"
      },
      "source": [
        "Let's visualize the counts of of loan purposes, based on whether a borrower fully paid the loan back or not."
      ]
    },
    {
      "cell_type": "code",
      "metadata": {
        "id": "EFcxpADNLOy1"
      },
      "source": [
        "plt.figure(figsize=(9,5))\n",
        "sns.countplot(loans['purpose'],hue=loans['not.fully.paid'])\n",
        "plt.tight_layout()"
      ],
      "execution_count": null,
      "outputs": []
    },
    {
      "cell_type": "markdown",
      "metadata": {
        "id": "EbPUFlhOLW1b"
      },
      "source": [
        "Let's see the trend between FICO score and interest rate."
      ]
    },
    {
      "cell_type": "code",
      "metadata": {
        "id": "2rh5yG8ULWgj"
      },
      "source": [
        "sns.jointplot(x='fico',y='int.rate',data=loans)"
      ],
      "execution_count": null,
      "outputs": []
    }
  ]
}