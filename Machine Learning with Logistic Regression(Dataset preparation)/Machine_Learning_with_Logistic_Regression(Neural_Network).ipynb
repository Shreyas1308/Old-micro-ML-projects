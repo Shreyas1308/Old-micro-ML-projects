{
  "nbformat": 4,
  "nbformat_minor": 0,
  "metadata": {
    "colab": {
      "name": "Machine Learning with Logistic Regression(Neural Network).ipynb",
      "provenance": []
    },
    "kernelspec": {
      "name": "python3",
      "display_name": "Python 3"
    },
    "language_info": {
      "name": "python"
    }
  },
  "cells": [
    {
      "cell_type": "markdown",
      "metadata": {
        "id": "4C0lhq2oLN7_"
      },
      "source": [
        "# **Model Building**\n",
        "We'll split the data into training set and testing set using train_test_split, but first, let's convert the 'Country' feature to an acceptable form for the model."
      ]
    },
    {
      "cell_type": "code",
      "metadata": {
        "id": "j_n7K7dFLClg"
      },
      "source": [
        "ad_data.columns"
      ],
      "execution_count": null,
      "outputs": []
    },
    {
      "cell_type": "markdown",
      "metadata": {
        "id": "UfYIlV83Lm0G"
      },
      "source": [
        "As we can't directly use the 'Country' feature (because it's a categorical string), we have to find another way to feed it into the model.\n",
        "\n",
        "One way to go about this is to drop the feature, but we risk losing useful information.\n",
        "\n",
        "So, what we can do is, convert the categorical feature into [dummy variables](https://pandas.pydata.org/pandas-docs/stable/reference/api/pandas.get_dummies.html) using pandas."
      ]
    },
    {
      "cell_type": "code",
      "metadata": {
        "id": "0KIDThlFLaNG"
      },
      "source": [
        "countries = pd.get_dummies(ad_data['Country'],drop_first=True)"
      ],
      "execution_count": null,
      "outputs": []
    },
    {
      "cell_type": "markdown",
      "metadata": {
        "id": "NK6qv1HpMhoP"
      },
      "source": [
        "\n",
        "Concatenating dummy variables with the original dataset, and dropping other features."
      ]
    },
    {
      "cell_type": "code",
      "metadata": {
        "id": "mv2pUtcgL9aW"
      },
      "source": [
        "ad_data = pd.concat([ad_data,countries],axis=1)\n",
        "ad_data.drop(['Country','Ad Topic Line','City','Timestamp'],axis=1,inplace=True)"
      ],
      "execution_count": null,
      "outputs": []
    },
    {
      "cell_type": "markdown",
      "metadata": {
        "id": "Fg4Zls5HMt_X"
      },
      "source": [
        "Splitting the dataset."
      ]
    },
    {
      "cell_type": "code",
      "metadata": {
        "id": "UclFWBrDM2Ql"
      },
      "source": [
        "X = ad_data.drop('Clicked on Ad',axis=1)\n",
        "y = ad_data['Clicked on Ad']"
      ],
      "execution_count": null,
      "outputs": []
    },
    {
      "cell_type": "code",
      "metadata": {
        "id": "HwnxhaczM9u3"
      },
      "source": [
        "from sklearn.model_selection import train_test_split"
      ],
      "execution_count": null,
      "outputs": []
    },
    {
      "cell_type": "code",
      "metadata": {
        "id": "qF70Wu3JNF5B"
      },
      "source": [
        "X_train, X_test, y_train, y_test = train_test_split(X, y, test_size=0.3, random_state=101)"
      ],
      "execution_count": null,
      "outputs": []
    },
    {
      "cell_type": "markdown",
      "metadata": {
        "id": "YOgz1qTgNJFH"
      },
      "source": [
        "\n",
        "Training the model."
      ]
    },
    {
      "cell_type": "code",
      "metadata": {
        "id": "VRSbw7lCNKnm"
      },
      "source": [
        "from sklearn.linear_model import LogisticRegression\n",
        "logclf = LogisticRegression()"
      ],
      "execution_count": null,
      "outputs": []
    },
    {
      "cell_type": "code",
      "metadata": {
        "id": "gVUfRuO6Ne1O"
      },
      "source": [
        "logclf.fit(X,y)"
      ],
      "execution_count": null,
      "outputs": []
    }
  ]
}