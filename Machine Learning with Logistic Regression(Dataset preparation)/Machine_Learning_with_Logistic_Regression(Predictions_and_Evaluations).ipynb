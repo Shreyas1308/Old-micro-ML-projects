{
  "nbformat": 4,
  "nbformat_minor": 0,
  "metadata": {
    "colab": {
      "name": "Machine Learning with Logistic Regression(Predictions and Evaluations).ipynb",
      "provenance": []
    },
    "kernelspec": {
      "name": "python3",
      "display_name": "Python 3"
    },
    "language_info": {
      "name": "python"
    }
  },
  "cells": [
    {
      "cell_type": "markdown",
      "metadata": {
        "id": "NadgWgurEEDm"
      },
      "source": [
        "# **Predictions and Evaluations**"
      ]
    },
    {
      "cell_type": "code",
      "metadata": {
        "id": "sKwqkKKEDfP3"
      },
      "source": [
        "predictions = logclf.predict(X_test)"
      ],
      "execution_count": null,
      "outputs": []
    },
    {
      "cell_type": "markdown",
      "metadata": {
        "id": "m-bOA_B8EPBI"
      },
      "source": [
        "\n",
        "Classification report for the model:"
      ]
    },
    {
      "cell_type": "code",
      "metadata": {
        "id": "uEjRYQXeEQ0H"
      },
      "source": [
        "from sklearn.metrics import classification_report\n",
        "print(classification_report(y_test,predictions))"
      ],
      "execution_count": null,
      "outputs": []
    }
  ]
}