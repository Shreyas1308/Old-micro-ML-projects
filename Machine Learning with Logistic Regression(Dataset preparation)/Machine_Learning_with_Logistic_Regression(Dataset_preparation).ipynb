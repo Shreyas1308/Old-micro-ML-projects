{
  "nbformat": 4,
  "nbformat_minor": 0,
  "metadata": {
    "colab": {
      "name": "Machine Learning with Logistic Regression(Dataset preparation).ipynb",
      "provenance": []
    },
    "kernelspec": {
      "name": "python3",
      "display_name": "Python 3"
    },
    "language_info": {
      "name": "python"
    }
  },
  "cells": [
    {
      "cell_type": "markdown",
      "metadata": {
        "id": "w6NxlqjbAfZh"
      },
      "source": [
        "# **Machine Learning with Logistic Regression**\n",
        "Second in the ML micro-project series, in this project we will work with a fake advertising data set, indicating whether or not a particular internet user clicked on an advertisement.\n",
        "\n",
        "We will create a logistic regression model that will predict whether or not a user will click on an ad, based on his/her features. As this is a binary classification problem, a logistic regression model is well suited here."
      ]
    },
    {
      "cell_type": "code",
      "metadata": {
        "id": "UIzFcNT2AW54"
      },
      "source": [
        "import pandas as pd\n",
        "import numpy as np\n",
        "import seaborn as sns\n",
        "import matplotlib.pyplot as plt\n",
        "%matplotlib inline"
      ],
      "execution_count": null,
      "outputs": []
    },
    {
      "cell_type": "markdown",
      "metadata": {
        "id": "VD37Eb2BE1lm"
      },
      "source": [
        "# **Data**\n",
        "The data set contains the following features:\n",
        "\n",
        "\n",
        "*   'Daily Time Spent on Site': consumer time on site in minutes\n",
        "*   'Age': cutomer age in years\n",
        "*   'Area Income': Avg. Income of geographical area of consumer\n",
        "*   'Daily Internet Usage': Avg. minutes a day consumer is on the internet\n",
        "*   'Ad Topic Line': Headline of the advertisement\n",
        "*   'City': City of consumer\n",
        "*   'Male': Whether or not consumer was male\n",
        "*   'Country': Country of consumer\n",
        "*   'Timestamp': Time at which consumer clicked on Ad or closed window\n",
        "*   'Clicked on Ad': 0 or 1 indicated clicking on Ad"
      ]
    },
    {
      "cell_type": "code",
      "metadata": {
        "id": "QS6IMcuWEn3W"
      },
      "source": [
        "ad_data = pd.read_csv('data/advertising.csv')"
      ],
      "execution_count": null,
      "outputs": []
    },
    {
      "cell_type": "code",
      "metadata": {
        "id": "jRzb4UXoGPkm"
      },
      "source": [
        "ad_data.head()"
      ],
      "execution_count": null,
      "outputs": []
    },
    {
      "cell_type": "code",
      "metadata": {
        "id": "h5ZY1IQwGU4m"
      },
      "source": [
        "ad_data.info()"
      ],
      "execution_count": null,
      "outputs": []
    },
    {
      "cell_type": "code",
      "metadata": {
        "id": "gmiZaP4hGf09"
      },
      "source": [
        "ad_data.describe()"
      ],
      "execution_count": null,
      "outputs": []
    },
    {
      "cell_type": "markdown",
      "metadata": {
        "id": "2STr46NKGp3k"
      },
      "source": [
        "# **Exploratory Analysis**\n",
        "Checking out the distribution of user age."
      ]
    },
    {
      "cell_type": "code",
      "metadata": {
        "id": "8qAFLWL3Ghyo"
      },
      "source": [
        "plt.hist(ad_data['Age'],bins=30)\n",
        "plt"
      ],
      "execution_count": null,
      "outputs": []
    },
    {
      "cell_type": "markdown",
      "metadata": {
        "id": "2-zzzLq6HPIF"
      },
      "source": [
        "Checking out the relationship between age and daily time spent on site."
      ]
    },
    {
      "cell_type": "code",
      "metadata": {
        "id": "B93WDEQUGz3E"
      },
      "source": [
        "sns.jointplot('Age','Daily Time Spent on Site',ad_data)"
      ],
      "execution_count": null,
      "outputs": []
    },
    {
      "cell_type": "code",
      "metadata": {
        "id": "kfeeRTrnHfDe"
      },
      "source": [
        "sns.jointplot('Daily Time Spent on Site','Daily Internet Usage',ad_data)"
      ],
      "execution_count": null,
      "outputs": []
    },
    {
      "cell_type": "markdown",
      "metadata": {
        "id": "b821SFdaHyfX"
      },
      "source": [
        "Finally, a pairplot to visualise everything else, colored on the basis of whether they clicked the ad or not."
      ]
    },
    {
      "cell_type": "code",
      "metadata": {
        "id": "2gjBLNLOHjMg"
      },
      "source": [
        "sns.pairplot(ad_data,hue='Clicked on Ad')"
      ],
      "execution_count": null,
      "outputs": []
    }
  ]
}