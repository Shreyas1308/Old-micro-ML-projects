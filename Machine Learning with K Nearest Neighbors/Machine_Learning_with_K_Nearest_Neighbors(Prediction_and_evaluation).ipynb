{
  "nbformat": 4,
  "nbformat_minor": 0,
  "metadata": {
    "colab": {
      "name": "Machine Learning with K Nearest Neighbors(Prediction and evaluation).ipynb",
      "provenance": []
    },
    "kernelspec": {
      "name": "python3",
      "display_name": "Python 3"
    },
    "language_info": {
      "name": "python"
    }
  },
  "cells": [
    {
      "cell_type": "markdown",
      "metadata": {
        "id": "De2ELZr8tKt0"
      },
      "source": [
        "# **Predictions and Evaluations**"
      ]
    },
    {
      "cell_type": "code",
      "metadata": {
        "id": "S9woUOz4sPCe"
      },
      "source": [
        "predictions = knn.predict(X_test)"
      ],
      "execution_count": null,
      "outputs": []
    },
    {
      "cell_type": "code",
      "metadata": {
        "id": "w7RyNTtSvmpg"
      },
      "source": [
        "from sklearn.metrics import classification_report,confusion_matrix"
      ],
      "execution_count": null,
      "outputs": []
    },
    {
      "cell_type": "code",
      "metadata": {
        "id": "gszpw5l7w9BY"
      },
      "source": [
        "print(confusion_matrix(y_test,predictions))"
      ],
      "execution_count": null,
      "outputs": []
    },
    {
      "cell_type": "code",
      "metadata": {
        "id": "rzBjfrU9xhyI"
      },
      "source": [
        "print(classification_report(y_test,predictions))"
      ],
      "execution_count": null,
      "outputs": []
    },
    {
      "cell_type": "markdown",
      "metadata": {
        "id": "VH7GbKn_xmE9"
      },
      "source": [
        "# **Choosing a K Value**\n",
        "A major part of building a ML model with KNN, is choosing a K value to improve the performance of our model. Let's go ahead and use the elbow method to do that.\n",
        "\n",
        "We will create a loop that trains various KNN models with different k values, then keep track of the error_rate for each of these models with a list."
      ]
    },
    {
      "cell_type": "code",
      "metadata": {
        "id": "ke6ov0a82c1J"
      },
      "source": [
        "error_rate =[]\n",
        "for i in range(1,50):\n",
        "    knn = KNeighborsClassifier(n_neighbors=i)\n",
        "    knn.fit(X_train,y_train)\n",
        "    predictions = knn.predict(X_test)\n",
        "    error_rate.append(np.mean(predictions != y_test))"
      ],
      "execution_count": null,
      "outputs": []
    },
    {
      "cell_type": "markdown",
      "metadata": {
        "id": "hSXHm3FU3lms"
      },
      "source": [
        "Now, to make it easier to see what values of K had lower error rates, we'll create a plot using the information from our for loop."
      ]
    },
    {
      "cell_type": "code",
      "metadata": {
        "id": "TX8WNI7C3iaJ"
      },
      "source": [
        "plt.figure(figsize=(10,6))\n",
        "plt.plot(range(1,50),error_rate,color='blue', linestyle='dashed', marker='o',\n",
        "         markerfacecolor='red', markersize=10)\n",
        "plt.title('Error Rate vs. K Value')\n",
        "plt.xlabel('K')\n",
        "plt.ylabel('Error Rate')"
      ],
      "execution_count": null,
      "outputs": []
    },
    {
      "cell_type": "markdown",
      "metadata": {
        "id": "HawmHOYc4LxC"
      },
      "source": [
        "Looking at the plot,31 seems to be reasonable value for K. So let's retrain the model using that."
      ]
    },
    {
      "cell_type": "markdown",
      "metadata": {
        "id": "nSJwGRBJ4S_K"
      },
      "source": [
        "# **Retrain with new K Value**"
      ]
    },
    {
      "cell_type": "code",
      "metadata": {
        "id": "GXP6GcNS3ygA"
      },
      "source": [
        "knn = KNeighborsClassifier(n_neighbors=31)\n",
        "knn.fit(X_train,y_train)\n",
        "predictions = knn.predict(X_test)"
      ],
      "execution_count": null,
      "outputs": []
    },
    {
      "cell_type": "code",
      "metadata": {
        "id": "FS17zRTy4aLH"
      },
      "source": [
        "print(confusion_matrix(y_test,predictions))\n",
        "print(classification_report(y_test,predictions))"
      ],
      "execution_count": null,
      "outputs": []
    },
    {
      "cell_type": "markdown",
      "metadata": {
        "id": "QVHLsOru4lwQ"
      },
      "source": [
        "# **>>>>>>>THE END**"
      ]
    }
  ]
}