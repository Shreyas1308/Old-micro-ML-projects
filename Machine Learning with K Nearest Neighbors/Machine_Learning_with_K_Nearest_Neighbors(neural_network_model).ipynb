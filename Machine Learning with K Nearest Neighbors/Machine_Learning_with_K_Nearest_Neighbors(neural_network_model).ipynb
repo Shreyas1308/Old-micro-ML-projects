{
  "nbformat": 4,
  "nbformat_minor": 0,
  "metadata": {
    "colab": {
      "name": "Machine Learning with K Nearest Neighbors(neural network model).ipynb",
      "provenance": []
    },
    "kernelspec": {
      "name": "python3",
      "display_name": "Python 3"
    },
    "language_info": {
      "name": "python"
    }
  },
  "cells": [
    {
      "cell_type": "code",
      "metadata": {
        "id": "UBj_FXlQKdxD"
      },
      "source": [
        "#Begin with splitting the data into training and test sets\n",
        "from sklearn.model_selection import train_test_split"
      ],
      "execution_count": null,
      "outputs": []
    },
    {
      "cell_type": "code",
      "metadata": {
        "id": "m_nHd7bYLK4n"
      },
      "source": [
        "X = scaled_df\n",
        "y = df['TARGET CLASS']"
      ],
      "execution_count": null,
      "outputs": []
    },
    {
      "cell_type": "code",
      "metadata": {
        "id": "RkmzvsBwLy1O"
      },
      "source": [
        "X_train, X_test, y_train, y_test = train_test_split(X, y, test_size=0.3, random_state=101)"
      ],
      "execution_count": null,
      "outputs": []
    },
    {
      "cell_type": "markdown",
      "metadata": {
        "id": "pDHT9KAPMKVJ"
      },
      "source": [
        "Fitting our model."
      ]
    },
    {
      "cell_type": "code",
      "metadata": {
        "id": "mfqbvl8oL68-"
      },
      "source": [
        "from sklearn.neighbors import KNeighborsClassifier"
      ],
      "execution_count": null,
      "outputs": []
    },
    {
      "cell_type": "code",
      "metadata": {
        "id": "NBLjPGlJMXL2"
      },
      "source": [
        "knn = KNeighborsClassifier(n_neighbors=1)\n",
        "knn.fit(X_train,y_train)"
      ],
      "execution_count": null,
      "outputs": []
    }
  ]
}